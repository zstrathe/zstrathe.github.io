{
  "cells": [
    {
      "cell_type": "code",
      "source": [
        "!pip install fast_bleu"
      ],
      "metadata": {
        "colab": {
          "base_uri": "https://localhost:8080/"
        },
        "id": "jXb0kg3j8V51",
        "outputId": "896f317a-8c0f-4494-e22b-abe52c0f90b2"
      },
      "execution_count": 1,
      "outputs": [
        {
          "output_type": "stream",
          "name": "stdout",
          "text": [
            "Collecting fast_bleu\n",
            "  Downloading fast-bleu-0.0.90.tar.gz (14 kB)\n",
            "Building wheels for collected packages: fast-bleu\n",
            "  Building wheel for fast-bleu (setup.py) ... \u001b[?25l\u001b[?25hdone\n",
            "  Created wheel for fast-bleu: filename=fast_bleu-0.0.90-cp37-cp37m-linux_x86_64.whl size=578940 sha256=ae929c7dbdf78a4be8940dfb923cde20d4db83bc32173ae3d45bf1530c6f3f9d\n",
            "  Stored in directory: /root/.cache/pip/wheels/bb/68/af/8d3adf7eca3609c20e9c59b27187deb5e7134b52c9df2233d0\n",
            "Successfully built fast-bleu\n",
            "Installing collected packages: fast-bleu\n",
            "Successfully installed fast-bleu-0.0.90\n"
          ]
        }
      ]
    },
    {
      "cell_type": "code",
      "source": [
        "from fast_bleu import BLEU\n",
        "import pandas as pd\n",
        "import numpy as np\n",
        "import random\n",
        "\n",
        "gen_files = ['rnn-baseline.txt', 'rnn-adj.txt', 'seqgan.txt', 'textgan.txt', 'leakgan.txt']\n",
        "\n",
        "# Setup reference text\n",
        "ref = ['test.txt']\n",
        "ref = open('test.txt', 'r').readlines()\n",
        "n_ref = []\n",
        "for i in ref:\n",
        "  i = i.strip('\\n').split(' ') # strip newline char and tokenize\n",
        "  n_ref.append(i[:10]) # limit reference lines to 10 tokens for evaluation to match model output\n",
        "ref = n_ref\n",
        "\n",
        "df_scores = pd.DataFrame() # init dataframe for storing scores\n",
        "\n",
        "# Iterate through the generated text files\n",
        "for f in gen_files:\n",
        "  hypotheses = open(f, 'r').readlines()\n",
        "  formatted_hyp = []\n",
        "  for i in hypotheses:\n",
        "    i = i.strip('\\n').split(' ') # strip newline char and tokenize\n",
        "    formatted_hyp.append(i)\n",
        "  \n",
        "  # Setup weights to calculate 1-4 n-grams with BLEU\n",
        "  weights = {'bleu-1': [1.0, 0, 0, 0], \n",
        "             'bleu-2': [0, 1.0, 0, 0],\n",
        "             'bleu-3': [0, 0, 1.0, 0],\n",
        "             'bleu-4': [0, 0, 0, 1.0],\n",
        "             }\n",
        "\n",
        "  # Get BLEU scores\n",
        "  bleu = BLEU(n_ref, weights)\n",
        "  results = bleu.get_score(formatted_hyp)\n",
        "\n",
        "  # Process BLEU scores: average observations for each score and store in a dict\n",
        "  bleu_dict = {}\n",
        "  for n_gram in range(1,5):\n",
        "      bleu_dict[f'bleu-{n_gram}'] = (np.array(results[f'bleu-{n_gram}']).mean())\n",
        "\n",
        "  # Add model scores to temp dataframe, add a column with the model name, and then append to the main scores dataframe\n",
        "  tmp_df = pd.DataFrame([bleu_dict])\n",
        "  tmp_df.insert(0, \"Model\", [f]) \n",
        "  df_scores = df_scores.append(tmp_df, ignore_index=False)\n",
        "\n",
        "print(df_scores)\n",
        "df_scores.to_csv('eval_scores.csv') # save eval scores to .csv"
      ],
      "metadata": {
        "colab": {
          "base_uri": "https://localhost:8080/"
        },
        "id": "mzUuWtar8ZJx",
        "outputId": "6b6def5e-61c1-44d5-b2d0-1c66447751f3"
      },
      "execution_count": 3,
      "outputs": [
        {
          "output_type": "stream",
          "name": "stdout",
          "text": [
            "              Model    bleu-1    bleu-2    bleu-3    bleu-4\n",
            "0  rnn-baseline.txt  0.415113  0.073969  0.038026  0.046169\n",
            "0       rnn-adj.txt  0.744216  0.265993  0.057585  0.044512\n",
            "0        seqgan.txt  0.785568  0.175680  0.056301  0.062931\n",
            "0       textgan.txt  0.811072  0.187394  0.045507  0.049414\n",
            "0       leakgan.txt  0.802498  0.227148  0.045176  0.033724\n"
          ]
        }
      ]
    },
    {
      "cell_type": "code",
      "source": [
        ""
      ],
      "metadata": {
        "id": "54FlQdGUCx9a"
      },
      "execution_count": null,
      "outputs": []
    }
  ],
  "metadata": {
    "accelerator": "GPU",
    "colab": {
      "collapsed_sections": [],
      "name": "bleu_evaluation.ipynb",
      "provenance": []
    },
    "kernelspec": {
      "display_name": "Python 3",
      "name": "python3"
    },
    "language_info": {
      "name": "python"
    }
  },
  "nbformat": 4,
  "nbformat_minor": 0
}