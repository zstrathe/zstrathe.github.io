{
  "nbformat": 4,
  "nbformat_minor": 0,
  "metadata": {
    "colab": {
      "name": "hosted-baselines cli.ipynb",
      "provenance": [],
      "collapsed_sections": []
    },
    "kernelspec": {
      "name": "python3",
      "display_name": "Python 3"
    },
    "language_info": {
      "name": "python"
    },
    "accelerator": "GPU"
  },
  "cells": [
    {
      "cell_type": "code",
      "metadata": {
        "id": "gwFhFCweyuNr"
      },
      "source": [
        "# Install necessary Python libraries\n",
        "# Additional information here:\n",
        "# https://www.videogames.ai/2019/01/29/Setup-OpenAI-baselines-retro.html\n",
        "%tensorflow_version 1.14\n",
        "!sudo apt-get --assume-yes install cmake python3 python3-pip git zlib1g-dev libopenmpi-dev ffmpeg\n",
        "!sudo apt-get update\n",
        "!pip3 install --timeout 1000 scikit-build opencv-python anyrl gym joblib atari-py \n",
        "\n",
        "!git clone  https://github.com/MatPoliquin/baselines-fix.git\n",
        "%cd baselines-fix\n",
        "!pip3 install -e .\n",
        "\n",
        "%cd ..\n",
        "\n",
        "!git clone https://github.com/MatPoliquin/stable-retro.git\n",
        "%cd stable-retro\n",
        "!pip3 install -e ."
      ],
      "execution_count": null,
      "outputs": []
    },
    {
      "cell_type": "code",
      "metadata": {
        "id": "wxInfNgW8jpz"
      },
      "source": [
        "## Before running, modify baselines-fix/baselines/run.py and add the game to env list!\n",
        "\n",
        "# Initial training\n",
        "\n",
        "# Specify Tensorflow 1.x (Newer versions don't work with the Baselines library)\n",
        "%tensorflow_version 1.x\n",
        "\n",
        "!OPENAI_LOGDIR=../../content/new_models/logs/ppo-5M-cropped-discrete-hyperparams-v3-newseed3-2 OPENAI_LOG_FORMAT='stdout,log,csv,tensorboard' python3 -m baselines.run --save_path=../../content/new_models/PPO-5M-cropped-discrete-hyperparams-v3-newseed3-2 --alg=ppo2 --network=cnn --env=MarioBros-Nes --num_timesteps=5e6 --save_video_interval=100000 --save_video_length=2000 --seed=99 --nsteps=2048 --nminibatches=8 --ent_coef=0.001 --lr=3e-4"
      ],
      "execution_count": null,
      "outputs": []
    },
    {
      "cell_type": "code",
      "metadata": {
        "id": "GzbejezP93ob"
      },
      "source": [
        "# Continue training\n",
        "\n",
        "# Specify Tensorflow 1.x (Newer versions don't work with the Baselines library)\n",
        "%tensorflow_version 1.x\n",
        "\n",
        "!OPENAI_LOGDIR=../../content/new_models/logs/ppo-5M-cropped-discrete-hyperparams-v3-newseed3-2-CONT20M OPENAI_LOG_FORMAT='stdout,log,csv,tensorboard' python3 -m baselines.run --load_path=../../content/new_models/PPO-5M-cropped-discrete-hyperparams-v3-newseed3-2 --save_path=../../content/new_models/PPO-5M-cropped-discrete-hyperparams-v3-newseed3-2-CONT20M --alg=ppo2 --network=cnn --env=MarioBros-Nes --num_timesteps=20e6 --save_video_interval=100000 --save_video_length=2000 --seed=99 --nsteps=2048 --nminibatches=8 --ent_coef=0.001 --lr=3e-4"
      ],
      "execution_count": null,
      "outputs": []
    },
    {
      "cell_type": "code",
      "metadata": {
        "id": "VGGYTMAr93lj"
      },
      "source": [
        "# Save video\n",
        "\n",
        "# Specify Tensorflow 1.x (Newer versions don't work with the Baselines library)\n",
        "%tensorflow_version 1.x\n",
        "\n",
        "!OPENAI_LOGDIR=../../content/ai_videos/5M-cropped python3 -m baselines.run --load_path=../../content/models/cropped-test/PPO-5M-cropped --alg=ppo2 --network=cnn --env=MarioBros-Nes --num_env=1 --save_video_interval=1 --save_video_length=5000 --play"
      ],
      "execution_count": null,
      "outputs": []
    }
  ]
}